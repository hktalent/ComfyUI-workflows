{
  "cells": [
    {
      "cell_type": "markdown",
      "metadata": {
        "id": "NpLnthLXvEWl"
      },
      "source": [
        "# 0- 基于云盘节约每次运行时间"
      ]
    },
    {
      "cell_type": "code",
      "execution_count": null,
      "metadata": {
        "colab": {
          "base_uri": "https://localhost:8080/"
        },
        "id": "lQAPBkFTvHSY",
        "outputId": "2d6b570d-7961-46ac-ca25-3b95227f254a"
      },
      "outputs": [
        {
          "output_type": "stream",
          "name": "stdout",
          "text": [
            "Mounted at /content/drive\n",
            "/content/drive/My Drive/ai\n"
          ]
        }
      ],
      "source": [
        "from google.colab import drive\n",
        "drive.mount('/content/drive', force_remount=True)\n",
        "\n",
        "!mkdir -p \"/content/drive/My Drive/ai\"\n",
        "%cd \"/content/drive/My Drive/ai\""
      ]
    },
    {
      "cell_type": "code",
      "source": [
        "!git clone https://github.com/AUTOMATIC1111/stable-diffusion-webui\n",
        "!git clone https://github.com/yfszzx/stable-diffusion-webui-images-browser \"./stable-diffusion-webui/extensions/stable-diffusion-webui-images-browser\"\n",
        "!ln -s \"/content/drive/My Drive/ai/stable-diffusion-webui\" \"/content/stable-diffusion-webui\"\n",
        "\n",
        "# 模型：chilloutmixni.safetensors\n",
        "!mkdir -p \"/content/drive/My Drive/ai/stable-diffusion-webui/models/Stable-diffusion/\"\n",
        "!wget -c -O \"/content/drive/My Drive/ai/stable-diffusion-webui/models/Stable-diffusion/chilloutmixni.safetensors\" https://huggingface.co/nolanaatama/chomni/resolve/main/chomni.safetensors\n",
        "\n",
        "!mkdir -p \"/content/drive/My Drive/ai/stable-diffusion-webui/embeddings\"\n",
        "!wget -c -O \"/content/drive/My Drive/ai/stable-diffusion-webui/embeddings/ulzzang-6500.pt\" https://huggingface.co/nolanaatama/chomni/resolve/main/ulzzang-6500.pt\n",
        "\n",
        "\n",
        "!git -C \"/content/drive/My Drive/ai/stable-diffusion-webui/repositories/k-diffusion\"  checkout -f 5b3af030dd83e0297272d861c19477735d0317ec\n",
        "\n",
        "# !wget -c https://github.com/Miraculix200/StableDiffusionUI_SageMakerSL/raw/main/StableDiffusionUI_SageMakerSL.ipynb"
      ],
      "metadata": {
        "id": "srJm9VfpLwn6"
      },
      "execution_count": null,
      "outputs": []
    },
    {
      "cell_type": "markdown",
      "metadata": {
        "id": "xWkMCPQdDqh2"
      },
      "source": [
        "# 扩展\n",
        "https://github.com/AUTOMATIC1111/stable-diffusion-webui/wiki/Extensions"
      ]
    },
    {
      "cell_type": "code",
      "execution_count": null,
      "metadata": {
        "colab": {
          "base_uri": "https://localhost:8080/"
        },
        "id": "3y-C87NNDpT-",
        "outputId": "84b8b28f-c68d-47aa-b0ce-655699056af3"
      },
      "outputs": [
        {
          "name": "stdout",
          "output_type": "stream",
          "text": [
            "/content/drive/My Drive/ai/stable-diffusion-webui\n",
            "fatal: destination path 'extensions/aesthetic-gradients' already exists and is not an empty directory.\n",
            "/content/drive/My Drive/ai\n",
            "fatal: destination path 'stable-diffusion-webui-chinese' already exists and is not an empty directory.\n"
          ]
        }
      ],
      "source": [
        "%cd \"/content/drive/My Drive/ai/stable-diffusion-webui\"\n",
        "\n",
        "# # General Info https://github.com/AUTOMATIC1111/stable-diffusion-webui-aesthetic-gradients\n",
        "!git clone https://github.com/AUTOMATIC1111/stable-diffusion-webui-aesthetic-gradients extensions/aesthetic-gradients\n",
        "\n",
        "# 中文扩展\n",
        "%cd \"/content/drive/My Drive/ai/\"\n",
        "!git clone https://github.com/VinsonLaro/stable-diffusion-webui-chinese\n",
        "!mkdir -p \"/content/drive/My Drive/ai/stable-diffusion-webui/localizations/\"\n",
        "!cp -rf stable-diffusion-webui-chinese/localizations/*.json \"/content/drive/My Drive/ai/stable-diffusion-webui/localizations/\"\n"
      ]
    },
    {
      "cell_type": "code",
      "execution_count": null,
      "metadata": {
        "colab": {
          "base_uri": "https://localhost:8080/"
        },
        "id": "ERYHbpjjD2QI",
        "outputId": "f8132e2d-acd8-460e-8b5b-76fc5bdeb348"
      },
      "outputs": [
        {
          "name": "stdout",
          "output_type": "stream",
          "text": [
            "total 211K\n",
            "-rw------- 1 root root  95K Mar 28 10:48  chinese-all-0306.json\n",
            "-rw------- 1 root root 116K Mar 28 10:48  chinese-english-0306.json\n",
            "-rw------- 1 root root    0 Mar 28 10:41 'Put localization files here.txt'\n",
            "total 4.0K\n",
            "drwx------ 3 root root 4.0K Mar 28 10:49 ai\n"
          ]
        }
      ],
      "source": [
        "!rm -rf \"/content/drive/My Drive/ai/stable-diffusion-webui-chinese\"\n",
        "!ls -lah \"/content/drive/My Drive/ai/stable-diffusion-webui/localizations/\"\n",
        "# !ls -lah \"/content/drive/My Drive/\""
      ]
    },
    {
      "cell_type": "markdown",
      "metadata": {
        "id": "bsiZpfkU7S77"
      },
      "source": [
        "# 1. Setup the Stable Diffusion Web UI with ChilloutMix model"
      ]
    },
    {
      "cell_type": "code",
      "execution_count": null,
      "metadata": {
        "colab": {
          "base_uri": "https://localhost:8080/"
        },
        "id": "Z3SUhsDXvrRj",
        "outputId": "e7d71c48-c9b8-46aa-929d-d084bd623203"
      },
      "outputs": [
        {
          "output_type": "stream",
          "name": "stdout",
          "text": [
            "/content/drive/My Drive/ai/stable-diffusion-webui\n",
            "Looking in indexes: https://pypi.org/simple, https://us-python.pkg.dev/colab-wheels/public/simple/\n",
            "Collecting fastapi==0.90.1\n",
            "  Using cached fastapi-0.90.1-py3-none-any.whl (56 kB)\n",
            "Requirement already satisfied: pydantic!=1.7,!=1.7.1,!=1.7.2,!=1.7.3,!=1.8,!=1.8.1,<2.0.0,>=1.6.2 in /usr/local/lib/python3.9/dist-packages (from fastapi==0.90.1) (1.10.7)\n",
            "Collecting starlette<0.24.0,>=0.22.0\n",
            "  Using cached starlette-0.23.1-py3-none-any.whl (64 kB)\n",
            "Requirement already satisfied: typing-extensions>=4.2.0 in /usr/local/lib/python3.9/dist-packages (from pydantic!=1.7,!=1.7.1,!=1.7.2,!=1.7.3,!=1.8,!=1.8.1,<2.0.0,>=1.6.2->fastapi==0.90.1) (4.5.0)\n",
            "Requirement already satisfied: anyio<5,>=3.4.0 in /usr/local/lib/python3.9/dist-packages (from starlette<0.24.0,>=0.22.0->fastapi==0.90.1) (3.6.2)\n",
            "Requirement already satisfied: sniffio>=1.1 in /usr/local/lib/python3.9/dist-packages (from anyio<5,>=3.4.0->starlette<0.24.0,>=0.22.0->fastapi==0.90.1) (1.3.0)\n",
            "Requirement already satisfied: idna>=2.8 in /usr/local/lib/python3.9/dist-packages (from anyio<5,>=3.4.0->starlette<0.24.0,>=0.22.0->fastapi==0.90.1) (3.4)\n",
            "Installing collected packages: starlette, fastapi\n",
            "  Attempting uninstall: starlette\n",
            "    Found existing installation: starlette 0.26.1\n",
            "    Uninstalling starlette-0.26.1:\n",
            "      Successfully uninstalled starlette-0.26.1\n",
            "  Attempting uninstall: fastapi\n",
            "    Found existing installation: fastapi 0.95.0\n",
            "    Uninstalling fastapi-0.95.0:\n",
            "      Successfully uninstalled fastapi-0.95.0\n",
            "\u001b[31mERROR: pip's dependency resolver does not currently take into account all the packages that are installed. This behaviour is the source of the following dependency conflicts.\n",
            "rembg 2.0.31 requires fastapi>=0.92.0, but you have fastapi 0.90.1 which is incompatible.\u001b[0m\u001b[31m\n",
            "\u001b[0mSuccessfully installed fastapi-0.90.1 starlette-0.23.1\n",
            "Looking in indexes: https://pypi.org/simple, https://us-python.pkg.dev/colab-wheels/public/simple/\n",
            "\u001b[31mERROR: Could not find a version that satisfies the requirement sd-samplers-common (from versions: none)\u001b[0m\u001b[31m\n",
            "\u001b[0m\u001b[31mERROR: No matching distribution found for sd-samplers-common\u001b[0m\u001b[31m\n",
            "\u001b[0m"
          ]
        }
      ],
      "source": [
        "%cd \"/content/drive/My Drive/ai/stable-diffusion-webui\"\n",
        "\n",
        "!pip install --upgrade fastapi==0.90.1\n",
        "!pip install sd-samplers-common"
      ]
    },
    {
      "cell_type": "markdown",
      "metadata": {
        "id": "YXI7dUZOHpO6"
      },
      "source": [
        "## generate\n",
        "```\n",
        "masterpiece, best quality, girl, loli, real, medium hair, blue eyes, large breasts, spread legs, bouncing breasts, sun, flower field,\n",
        "```\n",
        "### 参数\n",
        "```\n",
        "• COMMANDLINE_ARGS：这是一个环境变量，用于存储命令行参数。在这个例子中，--share表示启用共享服务，--disable-safe-unpickle表示禁止安全反序列化，--enable-insecure-extension-access表示启用不安全的扩展访问。\n",
        "• REQS_FILE：这是指定要安装的Python包的文件。\n",
        "• python: 启动用于运行Python程序的解释器。\n",
        "• launch.py: 是要运行的Python程序的名称。\n",
        "\n",
        "除了上述的参数，您还可以使用以下可选参数：\n",
        "\n",
        "• --host: 这是一个指定要使用的主机名的参数。如果不指定，则默认使用 127.0.0.1。\n",
        "• --port: 这是一个指定要使用的端口号的参数。如果不指定，则默认使用 8080。\n",
        "• --debug: 这是一个启用调试模式的参数。如果指定，则程序将使用调试模式启动。\n",
        "• --ssl: 这是一个启用SSL安全连接的参数。如果指定，则程序将使用SSL加密连接。\n",
        "• --certfile和--keyfile: 这两个参数分别用于指定SSL证书和密钥文件的路径。\n",
        "\n",
        "例如，以下是使用这些参数来运行Python程序的示例命令：\n",
        "\n",
        "!COMMANDLINE_ARGS=\"--share --disable-safe-unpickle --enable-insecure-extension-access\" REQS_FILE=\"requirements.txt\" python launch.py --host 0.0.0.0 --port 8080 --debug\n",
        "\n",
        "在此示例中，我们指定了 --host 和 --port 参数，并将 --debug 参数用于启用调试模式。\n",
        "```\n"
      ]
    },
    {
      "cell_type": "code",
      "execution_count": null,
      "metadata": {
        "colab": {
          "base_uri": "https://localhost:8080/"
        },
        "id": "ITBAgAp9ILcF",
        "outputId": "90ff73da-3dd7-4811-fa5c-51096a723d46"
      },
      "outputs": [
        {
          "name": "stdout",
          "output_type": "stream",
          "text": [
            "ln: failed to create symbolic link '/content/drive/My Drive/ai/stable-diffusion-webui/models/chilloutmix_NiPrunedFp32Fix.safetensor': Operation not supported\n",
            "total 44K\n",
            "drwx------ 2 root root 4.0K Mar 27 05:32 Codeformer\n",
            "drwx------ 2 root root 4.0K Mar 27 05:06 deepbooru\n",
            "drwx------ 2 root root 4.0K Mar 27 05:32 ESRGAN\n",
            "drwx------ 2 root root 4.0K Mar 27 05:32 GFPGAN\n",
            "drwx------ 2 root root 4.0K Mar 27 05:32 hypernetworks\n",
            "drwx------ 2 root root 4.0K Mar 27 05:32 LDSR\n",
            "drwx------ 2 root root 4.0K Mar 27 05:32 Lora\n",
            "drwx------ 2 root root 4.0K Mar 27 05:06 Stable-diffusion\n",
            "drwx------ 2 root root 4.0K Mar 27 05:32 SwinIR\n",
            "drwx------ 2 root root 4.0K Mar 27 05:06 VAE\n",
            "drwx------ 2 root root 4.0K Mar 27 05:06 VAE-approx\n"
          ]
        }
      ],
      "source": [
        "# !mv \"/content/drive/My Drive/chilloutmix_NiPrunedFp32Fix.safetensors\" \"/content/drive/My Drive/ai2/chilloutmix_NiPrunedFp32Fix.safetensors\"\n",
        "# !ln -s \"/content/drive/My Drive/ai2/chilloutmix_NiPrunedFp32Fix.safetensors\"  \"/content/drive/My Drive/ai/stable-diffusion-webui/models/chilloutmix_NiPrunedFp32Fix.safetensor\"\n",
        "# !ls -lah \"/content/drive/My Drive/ai/stable-diffusion-webui/models/\"\n"
      ]
    },
    {
      "cell_type": "code",
      "execution_count": null,
      "metadata": {
        "id": "R6G_-jEeJ1L6"
      },
      "outputs": [],
      "source": [
        "# %cd \"/content/drive/My Drive/ai/\"\n",
        "# !git lfs install\n",
        "# !git clone https://huggingface.co/lllyasviel/ControlNet"
      ]
    },
    {
      "cell_type": "code",
      "execution_count": null,
      "metadata": {
        "id": "sBbcB4vwj_jm"
      },
      "outputs": [],
      "source": [
        "%cd \"/content/drive/My Drive/ai/stable-diffusion-webui\"\n",
        "!pip install --upgrade fastapi==0.90.1\n",
        "!pip install sd-samplers-common\n",
        "# !ls -lah models/Stable-diffusion\n",
        "# !ls -lah embeddings\n",
        "# !git clone https://github.com/AUTOMATIC1111/stable-diffusion-webui\n",
        "# !git clone https://github.com/yfszzx/stable-diffusion-webui-images-browser /content/stable-diffusion-webui/extensions/stable-diffusion-webui-images-browser\n",
        "\n",
        "# Model(s) setup\n",
        "# Below are model code for ChilloutMix, we always could change it to your desired model\n",
        "!mkdir -p \"/content/drive/My Drive/ai/stable-diffusion-webui/models/Stable-diffusion\"\n",
        "!wget -c -O \"/content/drive/My Drive/ai/stable-diffusion-webui/models/Stable-diffusion/chilloutmixni.safetensors\" https://huggingface.co/nolanaatama/chomni/resolve/main/chomni.safetensors\n",
        "# !mv \"/content/chilloutmixni.safetensors\" \"/content/stable-diffusion-webui/models/Stable-diffusion\"\n",
        "\n",
        "# Additional embeddings\n",
        "# !curl -Lo ulzzang-6500.pt https://huggingface.co/nolanaatama/chomni/resolve/main/ulzzang-6500.pt\n",
        "# !mv \"/content/ulzzang-6500.pt\" \"/content/stable-diffusion-webui/embeddings\"\n",
        "\n",
        "# %cd /content/stable-diffusion-webui\n",
        "# 下面的命令解决冲突\n",
        "!git -C \"/content/drive/My Drive/ai/stable-diffusion-webui/repositories/k-diffusion\"  checkout -f 5b3af030dd83e0297272d861c19477735d0317ec\n",
        "!git checkout 91c8d0d\n",
        "\n",
        "# No use GPU\n",
        "# --xformers --reinstall-xformers\n",
        "# !CUDA_VISIBLE_DEVICES=-1 COMMANDLINE_ARGS=\"--skip-torch-cuda-test --no-half  --use-cpu SD GFPGAN BSRGAN ESRGAN SCUNet CodeFormer --all --share --precision full --disable-safe-unpickle --no-half-vae  --enable-insecure-extension-access\" REQS_FILE=\"requirements.txt\" python launch.py\n",
        "\n",
        "!COMMANDLINE_ARGS=\"--share --disable-safe-unpickle --no-half-vae --xformers --reinstall-xformers --enable-insecure-extension-access\" REQS_FILE=\"requirements.txt\" python launch.py\n",
        "# !COMMANDLINE_ARGS=\"--share --disable-safe-unpickle --enable-insecure-extension-access\" REQS_FILE=\"requirements.txt\" python launch.py"
      ]
    },
    {
      "cell_type": "markdown",
      "metadata": {
        "id": "JUtPlg328avv"
      },
      "source": [
        "# 2. After the gradio link show up, stop the first cell 等待上步执行完毕（Gradio 链接出现）后，停止上个单元格\n",
        "---"
      ]
    },
    {
      "cell_type": "markdown",
      "metadata": {
        "id": "qxhOCPrg7WXm"
      },
      "source": [
        "# 3. Load the LoRA & launch the web ui 加载LoRA模型bing重启Web UI"
      ]
    },
    {
      "cell_type": "code",
      "execution_count": null,
      "metadata": {
        "id": "3hsA5Me0rSS_"
      },
      "outputs": [],
      "source": [
        "%cd \"/content/drive/My Drive/ai/\"\n",
        "# !ls \"/content/drive/My Drive/ai/stable-diffusion-webui/models/\"|xargs -I % cp -rf \"/content/drive/My Drive/ai/stable-diffusion-webui/models/%\" \"/content/drive/My Drive/models/\"\n",
        "# !ls -lah \"/content/drive/My Drive/models/\""
      ]
    },
    {
      "cell_type": "code",
      "execution_count": null,
      "metadata": {
        "id": "pZVeLcbD70Lf"
      },
      "outputs": [],
      "source": [
        "%cd \"/content/drive/My Drive/ai/\"\n",
        "!mkdir -p \"/content/drive/My Drive/ai/stable-diffusion-webui/models/Lora\"\n",
        "!wget -c -O \"/content/drive/My Drive/ai/stable-diffusion-webui/models/Lora/koreanDollLikeness_v10.safetensors\" https://huggingface.co/nolanaatama/kdllora/resolve/main/kdllora.safetensors\n",
        "# !curl -Lo koreanDollLikeness_v10.safetensors https://huggingface.co/nolanaatama/kdllora/resolve/main/kdllora.safetensors\n",
        "#curl -Lo koreanDollLikeness_v10.safetensors https://civitai.com/api/download/models/14014\n",
        "# !mv \"./koreanDollLikeness_v10.safetensors\" \"/content/drive/My Drive/ai/stable-diffusion-webui/models/Lora\"\n",
        "%cd \"/content/drive/My Drive/ai/stable-diffusion-webui\"\n",
        "!pip install sd_samplers_common\n",
        "!COMMANDLINE_ARGS=\"--share --disable-safe-unpickle --no-half-vae --xformers --reinstall-xformers --enable-insecure-extension-access\" REQS_FILE=\"requirements.txt\" python launch.py"
      ]
    },
    {
      "cell_type": "markdown",
      "metadata": {
        "id": "E9GBxSbdH1ae"
      },
      "source": [
        "## 4. Display all generated images\n",
        "所有的图片都保存在下面的路径，运行以展示"
      ]
    },
    {
      "cell_type": "code",
      "execution_count": null,
      "metadata": {
        "colab": {
          "base_uri": "https://localhost:8080/"
        },
        "id": "4KJh7gAYvsvV",
        "outputId": "448f7ac2-b1af-47ec-e0c2-70e6c28e03f7"
      },
      "outputs": [
        {
          "output_type": "stream",
          "name": "stdout",
          "text": [
            "ls: cannot access './outputs/txt2img-images/': No such file or directory\n",
            "0\n"
          ]
        }
      ],
      "source": [
        "# 看看一共有多少图\n",
        "# !ls -lah \"/content/drive/My Drive\"\n",
        "# !ls -lah \"/content/drive/My Drive/ai/stable-diffusion-webui/\"\n",
        "# !mkdir -p \"/content/drive/My Drive/ai/stable-diffusion-webui/models\"\n",
        "# !ls -lah \"/content/drive/My Drive/models\"\n",
        "# !cp -rf \"/content/drive/.shortcut-targets-by-id/10aPun43NCdKJqhXBZ4eRXJ3VZKa66sAc/models\" \"/content/drive/My Drive/ai/stable-diffusion-webui/\"\n",
        "# !rsync -r \"/content/drive/.shortcut-targets-by-id/10aPun43NCdKJqhXBZ4eRXJ3VZKa66sAc/models\" \"/content/drive/My Drive/ai/stable-diffusion-webui/models\"\n",
        "# !du -h -d 1 \"/content/drive/My Drive/ai/stable-diffusion-webui/models/\"\n",
        "# !ls -lah \"/content/drive/My Drive/ai/stable-diffusion-webui/models\"\n",
        "# !find \"/content/drive/My Drive/ai/stable-diffusion-webui/models\" -type f|xargs -I % ls -lah %\n",
        "\n",
        "\n",
        "!ls ./outputs/txt2img-images/ | wc -l"
      ]
    },
    {
      "cell_type": "code",
      "execution_count": null,
      "metadata": {
        "id": "T9c0Rwc0BPBl"
      },
      "outputs": [],
      "source": [
        "# 显示所有图片\n",
        "import numpy as np\n",
        "import cv2 as cv\n",
        "from google.colab.patches import cv2_imshow\n",
        "import imutils\n",
        "import os\n",
        "\n",
        "# 指定目录\n",
        "directory = \"/content/drive/My Drive/ai/stable-diffusion-webui/outputs/txt2img-images/\"\n",
        "\n",
        "# 获取目录中的所有文件\n",
        "files = os.listdir(directory)\n",
        "\n",
        "# 过滤出所有图片文件\n",
        "images = [f for f in files if f.endswith('.jpg') or f.endswith('.jpeg') or f.endswith('.png')]\n",
        "\n",
        "# 将每张图片合并到空白图片上\n",
        "for i, image_file in enumerate(images):\n",
        "    img = cv.imread(os.path.join(directory, image_file))\n",
        "\n",
        "    # 调整图像大小\n",
        "    img = imutils.resize(img, width=512)\n",
        "    cv2_imshow(img)"
      ]
    },
    {
      "cell_type": "code",
      "execution_count": null,
      "metadata": {
        "id": "P480060pDRNN"
      },
      "outputs": [],
      "source": []
    }
  ],
  "metadata": {
    "accelerator": "GPU",
    "colab": {
      "provenance": []
    },
    "gpuClass": "standard",
    "kernelspec": {
      "display_name": "Python 3",
      "name": "python3"
    },
    "language_info": {
      "name": "python"
    }
  },
  "nbformat": 4,
  "nbformat_minor": 0
}